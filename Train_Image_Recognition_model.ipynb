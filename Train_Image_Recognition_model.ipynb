{
 "cells": [
  {
   "cell_type": "markdown",
   "metadata": {
    "id": "aO4PKUKbo8nU"
   },
   "source": [
    "# Image Recognition\n",
    "\n",
    "### In this notebook we will work on the embedding and train a Support Vector Machine Linear model to recognize faces from the embedding"
   ]
  },
  {
   "cell_type": "code",
   "execution_count": null,
   "metadata": {
    "colab": {
     "base_uri": "https://localhost:8080/",
     "height": 51
    },
    "executionInfo": {
     "elapsed": 31743,
     "status": "ok",
     "timestamp": 1601654871848,
     "user": {
      "displayName": "Suranjan Daw",
      "photoUrl": "https://lh3.googleusercontent.com/a-/AOh14GhUpBvRQ5PrcRh8qOlaU4Nwe6RyjhXstou64VMAsJo=s64",
      "userId": "15683864860344688439"
     },
     "user_tz": -330
    },
    "id": "X6Y-0gS8oxKh",
    "outputId": "7874d5d4-278e-4e7c-f4bd-cf9dbf142b1b"
   },
   "outputs": [
    {
     "name": "stdout",
     "output_type": "stream",
     "text": [
      "/content/drive\n",
      "Mounted at /content/drive\n"
     ]
    }
   ],
   "source": [
    "# Mounting Google Drive\n",
    "from google.colab import drive\n",
    "from os.path import join\n",
    "ROOT = '/content/drive'\n",
    "print(ROOT)\n",
    "drive.mount(ROOT)"
   ]
  },
  {
   "cell_type": "code",
   "execution_count": 4,
   "metadata": {
    "colab": {
     "base_uri": "https://localhost:8080/",
     "height": 34
    },
    "executionInfo": {
     "elapsed": 31115,
     "status": "ok",
     "timestamp": 1601654871850,
     "user": {
      "displayName": "Suranjan Daw",
      "photoUrl": "https://lh3.googleusercontent.com/a-/AOh14GhUpBvRQ5PrcRh8qOlaU4Nwe6RyjhXstou64VMAsJo=s64",
      "userId": "15683864860344688439"
     },
     "user_tz": -330
    },
    "id": "hAvJjiHSpSGA",
    "outputId": "47900157-06f8-42da-a9a2-9c3b3662be98"
   },
   "outputs": [
    {
     "data": {
      "text/plain": [
       "'/home/suranjan/Documents/FaceRecognition'"
      ]
     },
     "execution_count": 4,
     "metadata": {},
     "output_type": "execute_result"
    }
   ],
   "source": [
    "%pwd"
   ]
  },
  {
   "cell_type": "code",
   "execution_count": null,
   "metadata": {
    "colab": {
     "base_uri": "https://localhost:8080/",
     "height": 34
    },
    "executionInfo": {
     "elapsed": 1749,
     "status": "ok",
     "timestamp": 1601654877116,
     "user": {
      "displayName": "Suranjan Daw",
      "photoUrl": "https://lh3.googleusercontent.com/a-/AOh14GhUpBvRQ5PrcRh8qOlaU4Nwe6RyjhXstou64VMAsJo=s64",
      "userId": "15683864860344688439"
     },
     "user_tz": -330
    },
    "id": "MOnrGr9wpWOh",
    "outputId": "7ece1d86-9c1b-48cd-ab4e-c3c74328d7b0"
   },
   "outputs": [
    {
     "name": "stdout",
     "output_type": "stream",
     "text": [
      "/content/drive/My Drive/Colab Notebooks/ProjectData\n"
     ]
    }
   ],
   "source": [
    "%cd /content/drive/My\\ Drive/Colab Notebooks/ProjectData"
   ]
  },
  {
   "cell_type": "code",
   "execution_count": 1,
   "metadata": {
    "id": "WpekjX7QpesE"
   },
   "outputs": [],
   "source": [
    "from sklearn.preprocessing import LabelEncoder\n",
    "from sklearn.svm import SVC\n",
    "import pickle\n",
    "import numpy as np"
   ]
  },
  {
   "cell_type": "code",
   "execution_count": 2,
   "metadata": {
    "id": "EoHtku6-raxX"
   },
   "outputs": [],
   "source": [
    "output_path = \"output2/\""
   ]
  },
  {
   "cell_type": "code",
   "execution_count": 3,
   "metadata": {
    "id": "w0h9AKfNro04"
   },
   "outputs": [],
   "source": [
    "path = output_path+\"data.pickle\"\n",
    "data = pickle.load(open(path, \"rb\"))"
   ]
  },
  {
   "cell_type": "code",
   "execution_count": 4,
   "metadata": {
    "id": "sOzQgiaksEJ4"
   },
   "outputs": [],
   "source": [
    "label_encoder = LabelEncoder()\n",
    "label = label_encoder.fit_transform(data['name'])"
   ]
  },
  {
   "cell_type": "code",
   "execution_count": 5,
   "metadata": {
    "colab": {
     "base_uri": "https://localhost:8080/",
     "height": 85
    },
    "executionInfo": {
     "elapsed": 1988,
     "status": "ok",
     "timestamp": 1601655095663,
     "user": {
      "displayName": "Suranjan Daw",
      "photoUrl": "https://lh3.googleusercontent.com/a-/AOh14GhUpBvRQ5PrcRh8qOlaU4Nwe6RyjhXstou64VMAsJo=s64",
      "userId": "15683864860344688439"
     },
     "user_tz": -330
    },
    "id": "ETMmnXLSsuMj",
    "outputId": "de4d5e5e-107b-4c10-fca3-e5c1f6bc84f7",
    "scrolled": true
   },
   "outputs": [
    {
     "data": {
      "text/plain": [
       "SVC(kernel='linear', probability=True)"
      ]
     },
     "execution_count": 5,
     "metadata": {},
     "output_type": "execute_result"
    }
   ],
   "source": [
    "embedding  = data['embedding']\n",
    "embedding\n",
    "recognizer = SVC(C=1.0, kernel=\"linear\", probability=True)\n",
    "recognizer.fit(embedding, label)"
   ]
  },
  {
   "cell_type": "code",
   "execution_count": 6,
   "metadata": {
    "id": "8RkhQ85atCJD"
   },
   "outputs": [],
   "source": [
    "f = open(output_path+\"label_encoder.pickle\",\"wb\")\n",
    "f.write(pickle.dumps(label_encoder))\n",
    "f.close()"
   ]
  },
  {
   "cell_type": "code",
   "execution_count": 7,
   "metadata": {
    "id": "zrk9qu9uvLZt"
   },
   "outputs": [],
   "source": [
    "f = open(output_path+\"recognizer.pickle\",\"wb\")\n",
    "f.write(pickle.dumps(recognizer))\n",
    "f.close()"
   ]
  },
  {
   "cell_type": "code",
   "execution_count": null,
   "metadata": {
    "id": "Rjz4YbNpvUYC"
   },
   "outputs": [],
   "source": []
  }
 ],
 "metadata": {
  "colab": {
   "name": "Train_Image_Recognition_model.ipynb",
   "provenance": []
  },
  "kernelspec": {
   "display_name": "Python 3",
   "language": "python",
   "name": "python3"
  },
  "language_info": {
   "codemirror_mode": {
    "name": "ipython",
    "version": 3
   },
   "file_extension": ".py",
   "mimetype": "text/x-python",
   "name": "python",
   "nbconvert_exporter": "python",
   "pygments_lexer": "ipython3",
   "version": "3.7.10"
  }
 },
 "nbformat": 4,
 "nbformat_minor": 1
}
