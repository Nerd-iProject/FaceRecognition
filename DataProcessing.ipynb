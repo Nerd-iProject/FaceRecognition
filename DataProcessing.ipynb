{
 "cells": [
  {
   "cell_type": "code",
   "execution_count": 1,
   "metadata": {},
   "outputs": [],
   "source": [
    "import os, shutil, random\n",
    "import matplotlib.pyplot as plt\n",
    "import cv2"
   ]
  },
  {
   "cell_type": "code",
   "execution_count": null,
   "metadata": {},
   "outputs": [],
   "source": []
  },
  {
   "cell_type": "code",
   "execution_count": 10,
   "metadata": {},
   "outputs": [
    {
     "name": "stdout",
     "output_type": "stream",
     "text": [
      "p\n"
     ]
    }
   ],
   "source": [
    "source = 'dataset2'\n",
    "dest = 'image2'\n",
    "names = os.listdir(source)\n",
    "for name in names :\n",
    "    \n",
    "    images = os.listdir(source+'/'+name)\n",
    "    \n",
    "    for img in random.sample(images, len(images)//5):\n",
    "        try :\n",
    "            shutil.move(os.path.join(source+'/'+name, img), dest)\n",
    "        except:\n",
    "            print(\"p\")\n",
    "            dest = dest + str(random.randint(0,9999))\n",
    "            shutil.move(os.path.join(source+'/'+name, img), dest)\n",
    "    "
   ]
  },
  {
   "cell_type": "code",
   "execution_count": null,
   "metadata": {},
   "outputs": [],
   "source": []
  }
 ],
 "metadata": {
  "kernelspec": {
   "display_name": "Python 3",
   "language": "python",
   "name": "python3"
  },
  "language_info": {
   "codemirror_mode": {
    "name": "ipython",
    "version": 3
   },
   "file_extension": ".py",
   "mimetype": "text/x-python",
   "name": "python",
   "nbconvert_exporter": "python",
   "pygments_lexer": "ipython3",
   "version": "3.7.10"
  }
 },
 "nbformat": 4,
 "nbformat_minor": 2
}
